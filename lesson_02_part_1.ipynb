{
 "cells": [
  {
   "cell_type": "code",
   "execution_count": 1,
   "metadata": {
    "ExecuteTime": {
     "end_time": "2019-09-15T05:27:30.230706Z",
     "start_time": "2019-09-15T05:27:30.106039Z"
    }
   },
   "outputs": [],
   "source": [
    "import numpy as np"
   ]
  },
  {
   "cell_type": "markdown",
   "metadata": {},
   "source": [
    "#### __1.__ Установить, какие произведения матриц $AB$ и $BA$ определены, и найти размерности полученных матриц:\n",
    "\n",
    "   а) $A$ — матрица $4\\times 2$, $B$ — матрица $4\\times 2$;\n",
    "    \n",
    "   б) $A$ — матрица $2\\times 5$, $B$ — матрица $5\\times 3$;\n",
    "    \n",
    "   в) $A$ — матрица $8\\times 3$, $B$ — матрица $3\\times 8$;\n",
    "    \n",
    "   г) $A$ — квадратная матрица $4\\times 4$, $B$ — квадратная матрица $4\\times 4$."
   ]
  },
  {
   "cell_type": "code",
   "execution_count": 5,
   "metadata": {
    "ExecuteTime": {
     "end_time": "2019-09-15T05:27:30.257634Z",
     "start_time": "2019-09-15T05:27:30.243671Z"
    }
   },
   "outputs": [
    {
     "name": "stdout",
     "output_type": "stream",
     "text": [
      "A:\n",
      "[[4 4]\n",
      " [2 0]\n",
      " [4 6]\n",
      " [7 6]]\n",
      "\n",
      "B:\n",
      "[[4 7]\n",
      " [1 5]\n",
      " [6 5]\n",
      " [3 5]]\n",
      "\n",
      "Произведение матриц A x B не определено.\n",
      "\n",
      "Произведение матриц B x A не определено.\n",
      "\n"
     ]
    }
   ],
   "source": [
    "# а)\n",
    "\n",
    "A = np.random.randint(0, 9, (4, 2))\n",
    "B = np.random.randint(0, 9, (4, 2))\n",
    "\n",
    "print(f'A:\\n{A}\\n')\n",
    "print(f'B:\\n{B}\\n')\n",
    "\n",
    "try:\n",
    "    np.dot(A, B)\n",
    "    print('Произведение матриц A x B определено.\\n')\n",
    "    print(f'Размерность произведения A x B : {(np.dot(A, B)).shape}\\n')\n",
    "except Exception:\n",
    "    print('Произведение матриц A x B не определено.\\n')\n",
    "    \n",
    "    \n",
    "try:\n",
    "    np.dot(B, A)\n",
    "    print('Произведение матриц B x A определено.\\n')\n",
    "    print(f'Размерность произведения B x A: {(np.dot(B, A)).shape}\\n')\n",
    "except Exception:\n",
    "    print('Произведение матриц B x A не определено.\\n')        "
   ]
  },
  {
   "cell_type": "code",
   "execution_count": 8,
   "metadata": {
    "ExecuteTime": {
     "end_time": "2019-09-15T05:27:30.272594Z",
     "start_time": "2019-09-15T05:27:30.259628Z"
    }
   },
   "outputs": [
    {
     "name": "stdout",
     "output_type": "stream",
     "text": [
      "A:\n",
      "[[5 2 4 3 6]\n",
      " [0 0 3 4 1]]\n",
      "\n",
      "B:\n",
      "[[8 2 0]\n",
      " [3 1 0]\n",
      " [1 2 4]\n",
      " [3 0 3]\n",
      " [2 8 6]]\n",
      "\n",
      "Произведение матриц A x B определено.\n",
      "\n",
      "Размерность произведения A x B : (2, 3)\n",
      "\n",
      "Произведение матриц B x A не определено.\n",
      "\n"
     ]
    }
   ],
   "source": [
    "# б)\n",
    "\n",
    "A = np.random.randint(0, 9, (2, 5))\n",
    "B = np.random.randint(0, 9, (5, 3))\n",
    "\n",
    "print(f'A:\\n{A}\\n')\n",
    "print(f'B:\\n{B}\\n')\n",
    "\n",
    "try:\n",
    "    np.dot(A, B)\n",
    "    print('Произведение матриц A x B определено.\\n')\n",
    "    print(f'Размерность произведения A x B : {(np.dot(A, B)).shape}\\n')    \n",
    "except Exception:\n",
    "    print('Произведение матриц A x B не определено.\\n')\n",
    "    \n",
    "    \n",
    "try:\n",
    "    np.dot(B, A)\n",
    "    print('Произведение матриц B x A определено.\\n')\n",
    "    print(f'Размерность произведения B x A: {(np.dot(B, A)).shape}\\n')\n",
    "except Exception:\n",
    "    print('Произведение матриц B x A не определено.\\n') \n",
    "    "
   ]
  },
  {
   "cell_type": "code",
   "execution_count": 9,
   "metadata": {
    "ExecuteTime": {
     "end_time": "2019-09-15T05:27:30.287553Z",
     "start_time": "2019-09-15T05:27:30.274588Z"
    }
   },
   "outputs": [
    {
     "name": "stdout",
     "output_type": "stream",
     "text": [
      "A:\n",
      "[[0 1 5]\n",
      " [1 0 6]\n",
      " [4 1 7]\n",
      " [6 5 1]\n",
      " [4 4 7]\n",
      " [2 3 8]\n",
      " [4 1 6]\n",
      " [5 7 4]]\n",
      "\n",
      "B:\n",
      "[[5 8 7 4 5 1 2 3]\n",
      " [8 0 1 4 7 3 7 0]\n",
      " [7 4 5 0 5 4 7 4]]\n",
      "\n",
      "Произведение матриц A x B определено.\n",
      "\n",
      "Размерность произведения A x B : (8, 8)\n",
      "\n",
      "Произведение матриц B x A определено.\n",
      "\n",
      "Размерность произведения B x A: (3, 3)\n",
      "\n"
     ]
    }
   ],
   "source": [
    "# в)\n",
    "\n",
    "A = np.random.randint(0, 9, (8, 3))\n",
    "B = np.random.randint(0, 9, (3, 8))\n",
    "\n",
    "print(f'A:\\n{A}\\n')\n",
    "print(f'B:\\n{B}\\n')\n",
    "\n",
    "try:\n",
    "    np.dot(A, B)\n",
    "    print('Произведение матриц A x B определено.\\n')\n",
    "    print(f'Размерность произведения A x B : {(np.dot(A, B)).shape}\\n')    \n",
    "except Exception:\n",
    "    print('Произведение матриц A x B не определено.\\n')\n",
    "    \n",
    "    \n",
    "try:\n",
    "    np.dot(B, A)\n",
    "    print('Произведение матриц B x A определено.\\n')\n",
    "    print(f'Размерность произведения B x A: {(np.dot(B, A)).shape}\\n')\n",
    "except Exception:\n",
    "    print('Произведение матриц B x A не определено.\\n') \n",
    "    "
   ]
  },
  {
   "cell_type": "code",
   "execution_count": 10,
   "metadata": {
    "ExecuteTime": {
     "end_time": "2019-09-15T05:27:30.298525Z",
     "start_time": "2019-09-15T05:27:30.289548Z"
    }
   },
   "outputs": [
    {
     "name": "stdout",
     "output_type": "stream",
     "text": [
      "A:\n",
      "[[6 5 2 8]\n",
      " [1 4 3 5]\n",
      " [7 1 4 8]\n",
      " [5 1 2 4]]\n",
      "\n",
      "B:\n",
      "[[4 6 2 3]\n",
      " [1 1 3 2]\n",
      " [7 3 3 3]\n",
      " [6 2 2 4]]\n",
      "\n",
      "Произведение матриц A x B определено.\n",
      "\n",
      "Размерность произведения A x B : (4, 4)\n",
      "\n",
      "Произведение матриц B x A определено.\n",
      "\n",
      "Размерность произведения B x A: (4, 4)\n",
      "\n"
     ]
    }
   ],
   "source": [
    "# г)\n",
    "\n",
    "A = np.random.randint(0, 9, (4, 4))\n",
    "B = np.random.randint(0, 9, (4, 4))\n",
    "\n",
    "print(f'A:\\n{A}\\n')\n",
    "print(f'B:\\n{B}\\n')\n",
    "\n",
    "try:\n",
    "    np.dot(A, B)\n",
    "    print('Произведение матриц A x B определено.\\n')\n",
    "    print(f'Размерность произведения A x B : {(np.dot(A, B)).shape}\\n')    \n",
    "except Exception:\n",
    "    print('Произведение матриц A x B не определено.\\n')\n",
    "    \n",
    "    \n",
    "try:\n",
    "    np.dot(B, A)\n",
    "    print('Произведение матриц B x A определено.\\n')\n",
    "    print(f'Размерность произведения B x A: {(np.dot(B, A)).shape}\\n')\n",
    "except Exception:\n",
    "    print('Произведение матриц B x A не определено.\\n') \n",
    "    "
   ]
  },
  {
   "cell_type": "markdown",
   "metadata": {},
   "source": [
    "#### __2.__ Найти сумму и произведение матриц $A=\\begin{pmatrix}\n",
    "1 & -2\\\\ \n",
    "3 & 0\n",
    "\\end{pmatrix}$ и $B=\\begin{pmatrix}\n",
    "4 & -1\\\\ \n",
    "0 & 5\n",
    "\\end{pmatrix}.$"
   ]
  },
  {
   "cell_type": "code",
   "execution_count": 12,
   "metadata": {
    "ExecuteTime": {
     "end_time": "2019-09-15T05:27:30.315479Z",
     "start_time": "2019-09-15T05:27:30.300519Z"
    }
   },
   "outputs": [
    {
     "name": "stdout",
     "output_type": "stream",
     "text": [
      "A + B:\n",
      "[[ 5 -3]\n",
      " [ 3  5]]\n",
      "\n",
      "A x B:\n",
      "[[  4 -11]\n",
      " [ 12  -3]]\n",
      "\n",
      "B x A:\n",
      "[[ 1 -8]\n",
      " [15  0]]\n",
      "\n"
     ]
    }
   ],
   "source": [
    "A = np.array([[1, -2], [3, 0]])\n",
    "B = np.array([[4, -1], [0, 5]])\n",
    "\n",
    "print(f'A + B:\\n{A + B}\\n')\n",
    "print(f'A x B:\\n{np.dot(A, B)}\\n')\n",
    "print(f'B x A:\\n{np.dot(B, A)}\\n')\n"
   ]
  },
  {
   "cell_type": "markdown",
   "metadata": {},
   "source": [
    "#### __3.__ Из закономерностей сложения и умножения матриц на число можно сделать вывод, что матрицы одного размера образуют линейное пространство. Вычислить линейную комбинацию $3A-2B+4C$ для матриц $A=\\begin{pmatrix}\n",
    "1 & 7\\\\ \n",
    "3 & -6\n",
    "\\end{pmatrix}$, $B=\\begin{pmatrix}\n",
    "0 & 5\\\\ \n",
    "2 & -1\n",
    "\\end{pmatrix}$, $C=\\begin{pmatrix}\n",
    "2 & -4\\\\ \n",
    "1 & 1\n",
    "\\end{pmatrix}.$"
   ]
  },
  {
   "cell_type": "code",
   "execution_count": 13,
   "metadata": {
    "ExecuteTime": {
     "end_time": "2019-09-15T05:27:30.328445Z",
     "start_time": "2019-09-15T05:27:30.318472Z"
    }
   },
   "outputs": [
    {
     "name": "stdout",
     "output_type": "stream",
     "text": [
      "3A - 2B + 4C:\n",
      "[[ 11  -5]\n",
      " [  9 -12]]\n",
      "\n"
     ]
    }
   ],
   "source": [
    "A = np.array([[1, 7], [3, -6]])\n",
    "B = np.array([[0, 5], [2, -1]])\n",
    "C = np.array([[2, -4], [1, 1]])\n",
    "\n",
    "print(f'3A - 2B + 4C:\\n{3 * A - 2 * B + 4 * C}\\n')\n"
   ]
  },
  {
   "cell_type": "markdown",
   "metadata": {},
   "source": [
    "#### __4.__ Дана матрица $A=\\begin{pmatrix}\n",
    "4 & 1\\\\ \n",
    "5 & -2\\\\ \n",
    "2 & 3\n",
    "\\end{pmatrix}$.\n",
    "Вычислить $AA^{T}$ и $A^{T}A$."
   ]
  },
  {
   "cell_type": "code",
   "execution_count": 14,
   "metadata": {
    "ExecuteTime": {
     "end_time": "2019-09-15T05:27:30.343405Z",
     "start_time": "2019-09-15T05:27:30.330439Z"
    }
   },
   "outputs": [
    {
     "name": "stdout",
     "output_type": "stream",
     "text": [
      "A x A.T:\n",
      "[[17 18 11]\n",
      " [18 29  4]\n",
      " [11  4 13]]\n",
      "\n",
      "A.T x A:\n",
      "[[45  0]\n",
      " [ 0 14]]\n",
      "\n"
     ]
    }
   ],
   "source": [
    "A = np.array([[4, 1], [5, -2], [2, 3]])\n",
    "\n",
    "print(f'A x A.T:\\n{np.dot(A, A.T)}\\n')\n",
    "print(f'A.T x A:\\n{np.dot(A.T, A)}\\n')\n"
   ]
  }
 ],
 "metadata": {
  "kernelspec": {
   "display_name": "Python 3",
   "language": "python",
   "name": "python3"
  },
  "language_info": {
   "codemirror_mode": {
    "name": "ipython",
    "version": 3
   },
   "file_extension": ".py",
   "mimetype": "text/x-python",
   "name": "python",
   "nbconvert_exporter": "python",
   "pygments_lexer": "ipython3",
   "version": "3.7.4"
  }
 },
 "nbformat": 4,
 "nbformat_minor": 2
}
