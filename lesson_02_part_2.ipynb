{
 "cells": [
  {
   "cell_type": "code",
   "execution_count": 2,
   "metadata": {
    "ExecuteTime": {
     "end_time": "2019-09-15T11:02:55.378006Z",
     "start_time": "2019-09-15T11:02:55.268298Z"
    }
   },
   "outputs": [],
   "source": [
    "import numpy as np\n",
    "import math\n",
    "import copy"
   ]
  },
  {
   "cell_type": "markdown",
   "metadata": {},
   "source": [
    "#### __1.__ Вычислить определитель:\n",
    "\n",
    "   a)\n",
    "\n",
    "$$\\begin{vmatrix}\n",
    "sinx & -cosx\\\\ \n",
    "cosx & sinx\n",
    "\\end{vmatrix};$$\n",
    "\n",
    "   б)\n",
    "    \n",
    "$$\\begin{vmatrix}\n",
    "4 & 2 & 3\\\\ \n",
    "0 & 5 & 1\\\\ \n",
    "0 & 0 & 9\n",
    "\\end{vmatrix};$$\n",
    "    \n",
    "   в)\n",
    "\n",
    "$$\\begin{vmatrix}\n",
    "1 & 2 & 3\\\\ \n",
    "4 & 5 & 6\\\\ \n",
    "7 & 8 & 9\n",
    "\\end{vmatrix}.$$"
   ]
  },
  {
   "cell_type": "code",
   "execution_count": 3,
   "metadata": {
    "ExecuteTime": {
     "end_time": "2019-09-15T11:02:55.406928Z",
     "start_time": "2019-09-15T11:02:55.390971Z"
    }
   },
   "outputs": [
    {
     "name": "stdout",
     "output_type": "stream",
     "text": [
      "det(A): 1.0000000000000002\n",
      "\n",
      "NumPy det(A): 1.0\n",
      "\n"
     ]
    }
   ],
   "source": [
    "# а)\n",
    "\n",
    "x = math.pi / 4\n",
    "\n",
    "A = np.array([[math.sin(x), -math.cos(x)], [math.cos(x), math.sin(x)]])\n",
    "\n",
    "det_A = A[0][0] * A[1][1] - A[0][1] * A[1][0]\n",
    "\n",
    "print(f'det(A): {det_A}\\n')\n",
    "\n",
    "print(f'NumPy det(A): {np.linalg.det(A)}\\n')"
   ]
  },
  {
   "cell_type": "code",
   "execution_count": 4,
   "metadata": {
    "ExecuteTime": {
     "end_time": "2019-09-15T11:02:55.416901Z",
     "start_time": "2019-09-15T11:02:55.408923Z"
    }
   },
   "outputs": [
    {
     "name": "stdout",
     "output_type": "stream",
     "text": [
      "det(A): 180\n",
      "\n",
      "NumPy det(A): 180.0\n",
      "\n"
     ]
    }
   ],
   "source": [
    "# б)\n",
    "\n",
    "A = np.array([[4, 2, 3], [0, 5, 1], [0, 0, 9]])\n",
    "\n",
    "det_A = (\n",
    "    A[0][0] * A[1][1] * A[2][2] +\n",
    "    A[0][1] * A[1][2] * A[2][0] +\n",
    "    A[0][2] * A[1][0] * A[2][1] -\n",
    "    A[0][2] * A[1][1] * A[2][0] -\n",
    "    A[0][1] * A[1][0] * A[2][2] -\n",
    "    A[0][0] * A[1][2] * A[2][1])\n",
    "\n",
    "print(f'det(A): {det_A}\\n')\n",
    "\n",
    "print(f'NumPy det(A): {np.linalg.det(A)}\\n')"
   ]
  },
  {
   "cell_type": "code",
   "execution_count": 5,
   "metadata": {
    "ExecuteTime": {
     "end_time": "2019-09-15T11:02:55.429881Z",
     "start_time": "2019-09-15T11:02:55.418895Z"
    }
   },
   "outputs": [
    {
     "name": "stdout",
     "output_type": "stream",
     "text": [
      "det(A): 0\n",
      "\n",
      "NumPy det(A): -9.51619735392994e-16\n",
      "\n"
     ]
    }
   ],
   "source": [
    "# в)\n",
    "\n",
    "A = np.array([[1, 2, 3], [4, 5, 6], [7, 8, 9]])\n",
    "\n",
    "det_A = (\n",
    "    A[0][0] * A[1][1] * A[2][2] +\n",
    "    A[0][1] * A[1][2] * A[2][0] +\n",
    "    A[0][2] * A[1][0] * A[2][1] -\n",
    "    A[0][2] * A[1][1] * A[2][0] -\n",
    "    A[0][1] * A[1][0] * A[2][2] -\n",
    "    A[0][0] * A[1][2] * A[2][1])\n",
    "\n",
    "print(f'det(A): {det_A}\\n')\n",
    "\n",
    "print(f'NumPy det(A): {np.linalg.det(A)}\\n')"
   ]
  },
  {
   "cell_type": "markdown",
   "metadata": {},
   "source": [
    "#### __2.__ Определитель матрицы $A$ равен $4$. Найти:\n",
    "\n",
    "   а) $det(A^{2})$;\n",
    "    \n",
    "   б) $det(A^{T})$;\n",
    "    \n",
    "   в) $det(2A)$."
   ]
  },
  {
   "cell_type": "code",
   "execution_count": 6,
   "metadata": {
    "ExecuteTime": {
     "end_time": "2019-09-15T11:02:55.440837Z",
     "start_time": "2019-09-15T11:02:55.431861Z"
    }
   },
   "outputs": [
    {
     "name": "stdout",
     "output_type": "stream",
     "text": [
      "det(A): 4.0\n",
      "\n"
     ]
    }
   ],
   "source": [
    "A = np.array([[1, -2], [1, 2]])\n",
    "\n",
    "print(f'det(A): {np.linalg.det(A)}\\n')"
   ]
  },
  {
   "cell_type": "markdown",
   "metadata": {},
   "source": [
    "а) $det(A^{2}) = det(A x A) = det(A) * det(A) = 16$<br>"
   ]
  },
  {
   "cell_type": "code",
   "execution_count": 7,
   "metadata": {
    "ExecuteTime": {
     "end_time": "2019-09-15T11:02:55.452805Z",
     "start_time": "2019-09-15T11:02:55.442832Z"
    }
   },
   "outputs": [
    {
     "name": "stdout",
     "output_type": "stream",
     "text": [
      "det(A^2): 16.000000000000007\n",
      "\n"
     ]
    }
   ],
   "source": [
    "print(f'det(A^2): {np.linalg.det(np.dot(A, A))}\\n')"
   ]
  },
  {
   "cell_type": "markdown",
   "metadata": {},
   "source": [
    "б) $det(A^{T})$ = $det(A)$ = $4$<br>"
   ]
  },
  {
   "cell_type": "code",
   "execution_count": 8,
   "metadata": {
    "ExecuteTime": {
     "end_time": "2019-09-15T11:02:55.465771Z",
     "start_time": "2019-09-15T11:02:55.456795Z"
    }
   },
   "outputs": [
    {
     "name": "stdout",
     "output_type": "stream",
     "text": [
      "det(A.T): 4.0\n",
      "\n"
     ]
    }
   ],
   "source": [
    "print(f'det(A.T): {np.linalg.det(A.T)}\\n')"
   ]
  },
  {
   "cell_type": "markdown",
   "metadata": {
    "ExecuteTime": {
     "end_time": "2019-09-14T07:56:47.058265Z",
     "start_time": "2019-09-14T07:56:47.049286Z"
    }
   },
   "source": [
    "в) $det(2A)$ = $k^{n}det(A)$ = $2^{n} * 4$ = $2^{n+2}$<br>"
   ]
  },
  {
   "cell_type": "code",
   "execution_count": 9,
   "metadata": {
    "ExecuteTime": {
     "end_time": "2019-09-15T11:02:55.476751Z",
     "start_time": "2019-09-15T11:02:55.467765Z"
    }
   },
   "outputs": [
    {
     "name": "stdout",
     "output_type": "stream",
     "text": [
      "det(2A): 15.999999999999998\n",
      "\n"
     ]
    }
   ],
   "source": [
    "print(f'det(2A): {np.linalg.det(2 * A)}\\n')"
   ]
  },
  {
   "cell_type": "markdown",
   "metadata": {},
   "source": [
    "#### __3.__  Доказать, что матрица\n",
    "\n",
    "$$\\begin{pmatrix}\n",
    "-2 & 7 & -3\\\\ \n",
    "4 & -14 & 6\\\\ \n",
    "-3 & 7 & 13\n",
    "\\end{pmatrix}$$\n",
    "   \n",
    "вырожденная."
   ]
  },
  {
   "cell_type": "markdown",
   "metadata": {},
   "source": [
    "Если $det(A) = 0$, то матрица A вырождена.<br>"
   ]
  },
  {
   "cell_type": "code",
   "execution_count": 12,
   "metadata": {
    "ExecuteTime": {
     "end_time": "2019-09-15T11:02:55.487712Z",
     "start_time": "2019-09-15T11:02:55.478736Z"
    }
   },
   "outputs": [
    {
     "name": "stdout",
     "output_type": "stream",
     "text": [
      "det(A): 0.0\n",
      "\n"
     ]
    }
   ],
   "source": [
    "A = np.array([[-2, 7, -3], [4, -14, 6], [-3, 7, 13]])\n",
    "print(f'det(A): {np.linalg.det( A)}\\n')"
   ]
  },
  {
   "cell_type": "markdown",
   "metadata": {},
   "source": [
    "#### __4.__ Найти ранг матрицы:\n",
    "\n",
    "   а) $\\begin{pmatrix}\n",
    "1 & 2 & 3\\\\ \n",
    "1 & 1 & 1\\\\ \n",
    "2 & 3 & 4\n",
    "\\end{pmatrix};$\n",
    "\n",
    "   б) $\\begin{pmatrix}\n",
    "0 & 0 & 2 & 1\\\\ \n",
    "0 & 0 & 2 & 2\\\\ \n",
    "0 & 0 & 4 & 3\\\\ \n",
    "2 & 3 & 5 & 6\n",
    "\\end{pmatrix}.$"
   ]
  },
  {
   "cell_type": "markdown",
   "metadata": {},
   "source": [
    "__Определение__\n",
    "\n",
    "_Строчным рангом матрицы_ называется максимальное число линейно независимых строк этой матрицы.\n",
    "\n",
    "_Столбцовым рангом матрицы_ называется максимальное число линейно независимых столбцов этой матрицы.\n",
    "\n",
    "__Теорема__\n",
    "\n",
    "_Строчный ранг матрицы всегда совпадает с столбцовым и равен максимальному размеру ее невырожденного минора._"
   ]
  },
  {
   "cell_type": "code",
   "execution_count": 13,
   "metadata": {
    "ExecuteTime": {
     "end_time": "2019-09-15T11:02:55.525611Z",
     "start_time": "2019-09-15T11:02:55.516634Z"
    }
   },
   "outputs": [
    {
     "name": "stdout",
     "output_type": "stream",
     "text": [
      "A:\n",
      "[[1 2 3]\n",
      " [1 1 1]\n",
      " [2 3 4]]\n",
      "\n"
     ]
    }
   ],
   "source": [
    "# а)\n",
    "\n",
    "A = np.array([[1, 2, 3], [1, 1, 1], [2, 3, 4]])\n",
    "\n",
    "print(f'A:\\n{A}\\n')"
   ]
  },
  {
   "cell_type": "markdown",
   "metadata": {},
   "source": [
    "Третья строка матрицы A является линейной комбинацией (суммой) первой и второй строк матрицы A, поэтому rank(A) - 2"
   ]
  },
  {
   "cell_type": "code",
   "execution_count": 13,
   "metadata": {
    "ExecuteTime": {
     "end_time": "2019-09-15T11:02:55.553536Z",
     "start_time": "2019-09-15T11:02:55.542565Z"
    }
   },
   "outputs": [
    {
     "name": "stdout",
     "output_type": "stream",
     "text": [
      "rank(A): 2\n",
      "\n"
     ]
    }
   ],
   "source": [
    "print(f'rank(A): {np.linalg.matrix_rank(A)}\\n')"
   ]
  },
  {
   "cell_type": "code",
   "execution_count": 15,
   "metadata": {
    "ExecuteTime": {
     "end_time": "2019-09-15T11:02:55.564506Z",
     "start_time": "2019-09-15T11:02:55.555531Z"
    }
   },
   "outputs": [
    {
     "name": "stdout",
     "output_type": "stream",
     "text": [
      "A:\n",
      "[[0 0 2 1]\n",
      " [0 0 2 2]\n",
      " [0 0 4 3]\n",
      " [2 3 5 6]]\n",
      "\n"
     ]
    }
   ],
   "source": [
    "# б)\n",
    "\n",
    "A = np.array([[0, 0, 2, 1], [0, 0, 2, 2], [0, 0, 4, 3], [2, 3, 5, 6]])\n",
    "\n",
    "print(f'A:\\n{A}\\n')"
   ]
  },
  {
   "cell_type": "markdown",
   "metadata": {},
   "source": [
    "Первая строка матрицы A является линейной комбинацией (разностью) третьей и второй строк матрицы A, поэтому rank(A) - 3"
   ]
  },
  {
   "cell_type": "code",
   "execution_count": 16,
   "metadata": {
    "ExecuteTime": {
     "end_time": "2019-09-15T11:02:55.589440Z",
     "start_time": "2019-09-15T11:02:55.580464Z"
    }
   },
   "outputs": [
    {
     "name": "stdout",
     "output_type": "stream",
     "text": [
      "rank(A): 3\n",
      "\n"
     ]
    }
   ],
   "source": [
    "print(f'rank(A): {np.linalg.matrix_rank(A)}\\n')"
   ]
  }
 ],
 "metadata": {
  "kernelspec": {
   "display_name": "Python 3",
   "language": "python",
   "name": "python3"
  },
  "language_info": {
   "codemirror_mode": {
    "name": "ipython",
    "version": 3
   },
   "file_extension": ".py",
   "mimetype": "text/x-python",
   "name": "python",
   "nbconvert_exporter": "python",
   "pygments_lexer": "ipython3",
   "version": "3.7.4"
  }
 },
 "nbformat": 4,
 "nbformat_minor": 2
}
