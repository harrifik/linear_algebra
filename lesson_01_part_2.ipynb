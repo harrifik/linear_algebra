{
 "cells": [
  {
   "cell_type": "code",
   "execution_count": 15,
   "metadata": {
    "ExecuteTime": {
     "end_time": "2019-09-10T17:22:41.826415Z",
     "start_time": "2019-09-10T17:22:41.649896Z"
    }
   },
   "outputs": [],
   "source": [
    "import numpy as np\n",
    "from scipy import linalg"
   ]
  },
  {
   "cell_type": "markdown",
   "metadata": {},
   "source": [
    "#### __1.__ Найти скалярное произведение векторов $x, y \\in \\mathbb{R}$:<br>\n",
    "а) $x=(0,-3, 6),~y=(-4, 7, 9);$<br>\n",
    "б) $x=(7, -4, 0, 1),~y=(-3, 1, 11, 2).$"
   ]
  },
  {
   "cell_type": "code",
   "execution_count": 16,
   "metadata": {
    "ExecuteTime": {
     "end_time": "2019-09-10T17:22:41.838384Z",
     "start_time": "2019-09-10T17:22:41.829408Z"
    }
   },
   "outputs": [
    {
     "name": "stdout",
     "output_type": "stream",
     "text": [
      "Скалярное произведение x и y: 33\n"
     ]
    }
   ],
   "source": [
    "x = np.array([0, -3, 6])\n",
    "y = np.array([-4, 7, 9])\n",
    "\n",
    "print(f'Скалярное произведение x и y: {np.dot(x, y)}')"
   ]
  },
  {
   "cell_type": "code",
   "execution_count": 17,
   "metadata": {
    "ExecuteTime": {
     "end_time": "2019-09-10T17:22:41.851348Z",
     "start_time": "2019-09-10T17:22:41.841376Z"
    }
   },
   "outputs": [
    {
     "name": "stdout",
     "output_type": "stream",
     "text": [
      "Скалярное произведение x и y: -23\n"
     ]
    }
   ],
   "source": [
    "x = np.array([7, -4, 0, 1])\n",
    "y = np.array([-3, 1, 11, 2])\n",
    "\n",
    "print(f'Скалярное произведение x и y: {np.dot(x, y)}')"
   ]
  },
  {
   "cell_type": "markdown",
   "metadata": {},
   "source": [
    "#### __2.__ Найти нормы векторов $(4, 2, 4)$ и $(12, 3, 4)$ и угол между ними."
   ]
  },
  {
   "cell_type": "code",
   "execution_count": 18,
   "metadata": {
    "ExecuteTime": {
     "end_time": "2019-09-10T17:22:41.866309Z",
     "start_time": "2019-09-10T17:22:41.854342Z"
    }
   },
   "outputs": [
    {
     "name": "stdout",
     "output_type": "stream",
     "text": [
      "l2 норма вектора a: 6.0\n",
      "l2 норма вектора b: 13.0\n",
      "Угол между векторами a и b: 0.46\n"
     ]
    }
   ],
   "source": [
    "a = np.array([4, 2, 4])\n",
    "b = np.array([12, 3, 4])\n",
    "\n",
    "print(f'l2 норма вектора a: {linalg.norm(a)}')\n",
    "print(f'l2 норма вектора b: {linalg.norm(b)}')\n",
    "print(f'Угол между векторами a и b: {np.arccos(np.dot(a, b) / (linalg.norm(a) * linalg.norm(b))):.2f}')"
   ]
  },
  {
   "cell_type": "markdown",
   "metadata": {
    "ExecuteTime": {
     "end_time": "2019-09-08T06:27:32.614902Z",
     "start_time": "2019-09-08T06:27:32.607921Z"
    }
   },
   "source": [
    "#### __3.__ Будет ли линейное пространство евклидовым, если за скалярное произведение принять:<br>\n",
    "а) произведение длин векторов;<br>\n",
    "б) утроенное обычное скалярное произведение векторов?"
   ]
  },
  {
   "cell_type": "markdown",
   "metadata": {},
   "source": [
    "Линейное пространство над полем вещественных чисел называется _евклидовым пространством_ , если на нем введено правило, согласно которому каждой упорядоченной паре векторов $x$ и $y$ поставлено в соответствие вещественное число, называемое _скалярным произведением_ и обозначаемое символом $(x, y)$.\n",
    "\n",
    "При этом указанное правило должно подчиняться четырем аксиомам:<br>\n",
    "1) $(x,y)=(y,x);$<br>\n",
    "2) $(\\lambda x, y)=\\lambda(x, y);$<br>\n",
    "3) $(x_{1}+x_{2},y)=(x_{1},y)+(x_{2},y);$<br>\n",
    "4) $(x, x)\\geq0$, причем $(x,x)=0\\Leftrightarrow x=0.$"
   ]
  },
  {
   "cell_type": "code",
   "execution_count": 19,
   "metadata": {
    "ExecuteTime": {
     "end_time": "2019-09-10T17:22:41.879275Z",
     "start_time": "2019-09-10T17:22:41.868304Z"
    }
   },
   "outputs": [
    {
     "name": "stdout",
     "output_type": "stream",
     "text": [
      "1) (x,y)=(y,x): True\n",
      "2) (lx,y)=l(x, y): True\n",
      "3) (x1+x2,y)=(x1,y) + (x2,y): False\n",
      "4) (x,x)>=0, (x,x)=0 <-> x=0: True, True\n"
     ]
    }
   ],
   "source": [
    "# а) произведение длин векторов\n",
    "\n",
    "# определим скалярное произведение как произведение длин векторов:\n",
    "def scalar(a, b):\n",
    "    return linalg.norm(a) * linalg.norm(b)\n",
    "\n",
    "# проверим аксиомы\n",
    "\n",
    "# 1\n",
    "a = np.array([4, 2, 4])\n",
    "b = np.array([12, 3, 4])\n",
    "print(f'1) (x,y)=(y,x): {scalar(a, b) == scalar(b, a)}')\n",
    "\n",
    "# 2\n",
    "l = 1\n",
    "print(f'2) (lx,y)=l(x, y): {scalar(l * a, b) == l * scalar(a, b)}')\n",
    "\n",
    "# 3\n",
    "a1 = np.array([0, -3, 6])\n",
    "a2 = np.array([-4, 7, 9])\n",
    "print(f'3) (x1+x2,y)=(x1,y) + (x2,y): {scalar(a1 + a2, b) == scalar(a1, b) + scalar(a2, b)}')\n",
    "\n",
    "# 4\n",
    "print(f'4) (x,x)>=0, (x,x)=0 <-> x=0: {scalar(x, x) >= 0}, {scalar((0, 0, 0), (0, 0, 0)) == 0.0}')"
   ]
  },
  {
   "cell_type": "code",
   "execution_count": 20,
   "metadata": {},
   "outputs": [],
   "source": [
    "# Линейное пространство не являеться евклидовым"
   ]
  },
  {
   "cell_type": "code",
   "execution_count": 27,
   "metadata": {
    "ExecuteTime": {
     "end_time": "2019-09-10T17:22:41.894235Z",
     "start_time": "2019-09-10T17:22:41.881270Z"
    }
   },
   "outputs": [
    {
     "name": "stdout",
     "output_type": "stream",
     "text": [
      "1) (x,y)=(y,x): True\n",
      "2) (lx,y)=l(x, y): True\n",
      "3) (x1+x2,y)=(x1,y) + (x2,y): True\n",
      "4) (x,x)>=0, (x,x)=0 <-> x=0: True, True\n"
     ]
    }
   ],
   "source": [
    "# б) утроенное обычное скалярное произведение векторов\n",
    "\n",
    "# определим скалярное произведение как утроенное обычное скалярное произведение векторов:\n",
    "def scalar(a, b):\n",
    "    return 3 * np.dot(a, b)\n",
    "\n",
    "# проверим аксиомы:\n",
    "\n",
    "# 1\n",
    "a = np.array([4, 2, 4])\n",
    "b = np.array([12, 3, 4])\n",
    "print(f'1) (x,y)=(y,x): {scalar(a, b) == scalar(b, a)}')\n",
    "\n",
    "# 2\n",
    "l = 1\n",
    "print(f'2) (lx,y)=l(x, y): {scalar(l * a, b) == l * scalar(a, b)}')\n",
    "\n",
    "# 3\n",
    "a1 = np.array([0, -3, 6])\n",
    "a2 = np.array([-4, 7, 9])\n",
    "print(f'3) (x1+x2,y)=(x1,y) + (x2,y): {scalar(a1 + a2, b) == scalar(a1, b) + scalar(a2, b)}')\n",
    "\n",
    "# 4\n",
    "print(f'4) (x,x)>=0, (x,x)=0 <-> x=0: {scalar(x, x) >= 0}, {scalar((0, 0, 0), (0, 0, 0)) == 0.0}')"
   ]
  },
  {
   "cell_type": "code",
   "execution_count": 22,
   "metadata": {},
   "outputs": [],
   "source": [
    "# Линейное пространство будет являться евклидовым"
   ]
  },
  {
   "cell_type": "markdown",
   "metadata": {},
   "source": [
    "#### __4.__ Какие из нижеперечисленных векторов образуют ортонормированный базис в линейном пространстве $\\mathbb{R}^{3}$:<br>\n",
    "а) $(1,0,0),(0,0,1);$ <br>\n",
    "б) $(1/\\sqrt{2},-1/\\sqrt{2},0),(1/\\sqrt{2},1/\\sqrt{2},0), (0,0,1);$<br>\n",
    "в) $(1/2, -1/2, 0), (0, 1/2, 1/2), (0,0,1);$<br>\n",
    "г) $(1,0,0),(0,1,0),(0,0,1)?$ "
   ]
  },
  {
   "cell_type": "code",
   "execution_count": 23,
   "metadata": {
    "ExecuteTime": {
     "end_time": "2019-09-10T17:22:41.906203Z",
     "start_time": "2019-09-10T17:22:41.896229Z"
    }
   },
   "outputs": [
    {
     "name": "stdout",
     "output_type": "stream",
     "text": [
      "(a,b) = 0\n",
      "(a,a) = 1\n",
      "(b,b) = 1\n"
     ]
    }
   ],
   "source": [
    "# а)\n",
    "\n",
    "a, b, = (1, 0, 0), (0, 0, 1)\n",
    "\n",
    "print(f'(a,b) = {np.round(np.dot(a, b), 4)}')\n",
    "print(f'(a,a) = {np.round(np.dot(a, a), 4)}')\n",
    "print(f'(b,b) = {np.round(np.dot(b, b), )}')"
   ]
  },
  {
   "cell_type": "code",
   "execution_count": 28,
   "metadata": {},
   "outputs": [],
   "source": [
    "# Вектора образуют ортонормированный базис"
   ]
  },
  {
   "cell_type": "code",
   "execution_count": null,
   "metadata": {},
   "outputs": [],
   "source": []
  },
  {
   "cell_type": "code",
   "execution_count": 24,
   "metadata": {
    "ExecuteTime": {
     "end_time": "2019-09-10T17:22:41.920165Z",
     "start_time": "2019-09-10T17:22:41.909195Z"
    }
   },
   "outputs": [
    {
     "name": "stdout",
     "output_type": "stream",
     "text": [
      "(a,b) = 0.0\n",
      "(a,c) = 0.0\n",
      "(b,c) = 0.0\n",
      "(a,a) = 1.0\n",
      "(b,b) = 1.0\n",
      "(c,c) = 1\n"
     ]
    }
   ],
   "source": [
    "# б)\n",
    "\n",
    "a, b, c = (1/np.sqrt(2), -1/np.sqrt(2), 0), (1/np.sqrt(2), 1/np.sqrt(2), 0), (0, 0, 1)\n",
    "\n",
    "print(f'(a,b) = {np.round(np.dot(a, b), 4)}')\n",
    "print(f'(a,c) = {np.round(np.dot(a, c), 4)}')\n",
    "print(f'(b,c) = {np.round(np.dot(b, c), 4)}')\n",
    "print(f'(a,a) = {np.round(np.dot(a, a), 4)}')\n",
    "print(f'(b,b) = {np.round(np.dot(b, b), 4)}')\n",
    "print(f'(c,c) = {np.round(np.dot(c, c), 4)}')"
   ]
  },
  {
   "cell_type": "code",
   "execution_count": null,
   "metadata": {},
   "outputs": [],
   "source": [
    "#  Вектора образуют ортонормированный базис"
   ]
  },
  {
   "cell_type": "code",
   "execution_count": null,
   "metadata": {},
   "outputs": [],
   "source": []
  },
  {
   "cell_type": "code",
   "execution_count": 25,
   "metadata": {
    "ExecuteTime": {
     "end_time": "2019-09-10T17:22:41.932133Z",
     "start_time": "2019-09-10T17:22:41.922160Z"
    }
   },
   "outputs": [
    {
     "name": "stdout",
     "output_type": "stream",
     "text": [
      "(a,b) = -0.25\n",
      "(a,c) = 0.0\n",
      "(b,c) = 0.5\n",
      "(a,a) = 0.5\n",
      "(b,b) = 0.5\n",
      "(c,c) = 1\n"
     ]
    }
   ],
   "source": [
    "# в)\n",
    "\n",
    "a, b, c = (1/2, -1/2, 0), (0, 1/2, 1/2), (0, 0, 1)\n",
    "\n",
    "print(f'(a,b) = {np.round(np.dot(a, b), 4)}')\n",
    "print(f'(a,c) = {np.round(np.dot(a, c), 4)}')\n",
    "print(f'(b,c) = {np.round(np.dot(b, c), 4)}')\n",
    "print(f'(a,a) = {np.round(np.dot(a, a), 4)}')\n",
    "print(f'(b,b) = {np.round(np.dot(b, b), 4)}')\n",
    "print(f'(c,c) = {np.round(np.dot(c, c), 4)}')"
   ]
  },
  {
   "cell_type": "code",
   "execution_count": null,
   "metadata": {},
   "outputs": [],
   "source": [
    "# Вектора не образуют ортонормированный базис"
   ]
  },
  {
   "cell_type": "code",
   "execution_count": null,
   "metadata": {},
   "outputs": [],
   "source": []
  },
  {
   "cell_type": "code",
   "execution_count": 26,
   "metadata": {
    "ExecuteTime": {
     "end_time": "2019-09-10T17:22:41.945098Z",
     "start_time": "2019-09-10T17:22:41.934128Z"
    }
   },
   "outputs": [
    {
     "name": "stdout",
     "output_type": "stream",
     "text": [
      "(a,b) = 0\n",
      "(a,c) = 0\n",
      "(b,c) = 0\n",
      "(a,a) = 1\n",
      "(b,b) = 1\n",
      "(c,c) = 1\n"
     ]
    }
   ],
   "source": [
    "# г)\n",
    "\n",
    "a, b, c = (1, 0, 0), (0, 1, 0), (0, 0, 1)\n",
    "\n",
    "print(f'(a,b) = {np.round(np.dot(a, b), 4)}')\n",
    "print(f'(a,c) = {np.round(np.dot(a, c), 4)}')\n",
    "print(f'(b,c) = {np.round(np.dot(b, c), 4)}')\n",
    "print(f'(a,a) = {np.round(np.dot(a, a), 4)}')\n",
    "print(f'(b,b) = {np.round(np.dot(b, b), 4)}')\n",
    "print(f'(c,c) = {np.round(np.dot(c, c), 4)}')"
   ]
  },
  {
   "cell_type": "code",
   "execution_count": null,
   "metadata": {},
   "outputs": [],
   "source": [
    "#  Вектора образуют ортонормированный базис"
   ]
  },
  {
   "cell_type": "code",
   "execution_count": null,
   "metadata": {},
   "outputs": [],
   "source": []
  }
 ],
 "metadata": {
  "kernelspec": {
   "display_name": "Python 3",
   "language": "python",
   "name": "python3"
  },
  "language_info": {
   "codemirror_mode": {
    "name": "ipython",
    "version": 3
   },
   "file_extension": ".py",
   "mimetype": "text/x-python",
   "name": "python",
   "nbconvert_exporter": "python",
   "pygments_lexer": "ipython3",
   "version": "3.7.4"
  }
 },
 "nbformat": 4,
 "nbformat_minor": 2
}
